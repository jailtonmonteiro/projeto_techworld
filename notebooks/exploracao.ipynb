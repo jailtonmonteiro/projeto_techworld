{
 "cells": [
  {
   "cell_type": "markdown",
   "id": "859b3018",
   "metadata": {},
   "source": [
    "# Cenário: Loja Virtual de Produtos Eletrônicos"
   ]
  },
  {
   "cell_type": "markdown",
   "id": "1f8747c3",
   "metadata": {},
   "source": [
    "### Carregamento de dados"
   ]
  },
  {
   "cell_type": "code",
   "execution_count": 13,
   "id": "b23817c9",
   "metadata": {},
   "outputs": [],
   "source": [
    "import pandas as pd\n",
    "import matplotlib as mp"
   ]
  },
  {
   "cell_type": "code",
   "execution_count": 14,
   "id": "d2646f4a",
   "metadata": {},
   "outputs": [
    {
     "data": {
      "text/html": [
       "<div>\n",
       "<style scoped>\n",
       "    .dataframe tbody tr th:only-of-type {\n",
       "        vertical-align: middle;\n",
       "    }\n",
       "\n",
       "    .dataframe tbody tr th {\n",
       "        vertical-align: top;\n",
       "    }\n",
       "\n",
       "    .dataframe thead th {\n",
       "        text-align: right;\n",
       "    }\n",
       "</style>\n",
       "<table border=\"1\" class=\"dataframe\">\n",
       "  <thead>\n",
       "    <tr style=\"text-align: right;\">\n",
       "      <th></th>\n",
       "      <th>order_id</th>\n",
       "      <th>product_name</th>\n",
       "      <th>category</th>\n",
       "      <th>price</th>\n",
       "      <th>quantity</th>\n",
       "      <th>order_date</th>\n",
       "      <th>customer_region</th>\n",
       "      <th>payment_method</th>\n",
       "    </tr>\n",
       "  </thead>\n",
       "  <tbody>\n",
       "    <tr>\n",
       "      <th>0</th>\n",
       "      <td>False</td>\n",
       "      <td>False</td>\n",
       "      <td>False</td>\n",
       "      <td>False</td>\n",
       "      <td>False</td>\n",
       "      <td>False</td>\n",
       "      <td>False</td>\n",
       "      <td>False</td>\n",
       "    </tr>\n",
       "    <tr>\n",
       "      <th>1</th>\n",
       "      <td>False</td>\n",
       "      <td>False</td>\n",
       "      <td>False</td>\n",
       "      <td>False</td>\n",
       "      <td>False</td>\n",
       "      <td>False</td>\n",
       "      <td>False</td>\n",
       "      <td>False</td>\n",
       "    </tr>\n",
       "    <tr>\n",
       "      <th>2</th>\n",
       "      <td>False</td>\n",
       "      <td>False</td>\n",
       "      <td>False</td>\n",
       "      <td>False</td>\n",
       "      <td>False</td>\n",
       "      <td>False</td>\n",
       "      <td>False</td>\n",
       "      <td>False</td>\n",
       "    </tr>\n",
       "    <tr>\n",
       "      <th>3</th>\n",
       "      <td>False</td>\n",
       "      <td>False</td>\n",
       "      <td>False</td>\n",
       "      <td>False</td>\n",
       "      <td>False</td>\n",
       "      <td>False</td>\n",
       "      <td>False</td>\n",
       "      <td>False</td>\n",
       "    </tr>\n",
       "    <tr>\n",
       "      <th>4</th>\n",
       "      <td>False</td>\n",
       "      <td>False</td>\n",
       "      <td>False</td>\n",
       "      <td>False</td>\n",
       "      <td>False</td>\n",
       "      <td>False</td>\n",
       "      <td>False</td>\n",
       "      <td>False</td>\n",
       "    </tr>\n",
       "    <tr>\n",
       "      <th>...</th>\n",
       "      <td>...</td>\n",
       "      <td>...</td>\n",
       "      <td>...</td>\n",
       "      <td>...</td>\n",
       "      <td>...</td>\n",
       "      <td>...</td>\n",
       "      <td>...</td>\n",
       "      <td>...</td>\n",
       "    </tr>\n",
       "    <tr>\n",
       "      <th>9995</th>\n",
       "      <td>False</td>\n",
       "      <td>False</td>\n",
       "      <td>False</td>\n",
       "      <td>False</td>\n",
       "      <td>False</td>\n",
       "      <td>False</td>\n",
       "      <td>False</td>\n",
       "      <td>False</td>\n",
       "    </tr>\n",
       "    <tr>\n",
       "      <th>9996</th>\n",
       "      <td>False</td>\n",
       "      <td>False</td>\n",
       "      <td>False</td>\n",
       "      <td>False</td>\n",
       "      <td>False</td>\n",
       "      <td>False</td>\n",
       "      <td>False</td>\n",
       "      <td>False</td>\n",
       "    </tr>\n",
       "    <tr>\n",
       "      <th>9997</th>\n",
       "      <td>False</td>\n",
       "      <td>False</td>\n",
       "      <td>False</td>\n",
       "      <td>False</td>\n",
       "      <td>False</td>\n",
       "      <td>False</td>\n",
       "      <td>False</td>\n",
       "      <td>False</td>\n",
       "    </tr>\n",
       "    <tr>\n",
       "      <th>9998</th>\n",
       "      <td>False</td>\n",
       "      <td>False</td>\n",
       "      <td>False</td>\n",
       "      <td>False</td>\n",
       "      <td>False</td>\n",
       "      <td>False</td>\n",
       "      <td>False</td>\n",
       "      <td>False</td>\n",
       "    </tr>\n",
       "    <tr>\n",
       "      <th>9999</th>\n",
       "      <td>False</td>\n",
       "      <td>False</td>\n",
       "      <td>False</td>\n",
       "      <td>False</td>\n",
       "      <td>False</td>\n",
       "      <td>False</td>\n",
       "      <td>False</td>\n",
       "      <td>False</td>\n",
       "    </tr>\n",
       "  </tbody>\n",
       "</table>\n",
       "<p>10000 rows × 8 columns</p>\n",
       "</div>"
      ],
      "text/plain": [
       "      order_id  product_name  category  price  quantity  order_date  \\\n",
       "0        False         False     False  False     False       False   \n",
       "1        False         False     False  False     False       False   \n",
       "2        False         False     False  False     False       False   \n",
       "3        False         False     False  False     False       False   \n",
       "4        False         False     False  False     False       False   \n",
       "...        ...           ...       ...    ...       ...         ...   \n",
       "9995     False         False     False  False     False       False   \n",
       "9996     False         False     False  False     False       False   \n",
       "9997     False         False     False  False     False       False   \n",
       "9998     False         False     False  False     False       False   \n",
       "9999     False         False     False  False     False       False   \n",
       "\n",
       "      customer_region  payment_method  \n",
       "0               False           False  \n",
       "1               False           False  \n",
       "2               False           False  \n",
       "3               False           False  \n",
       "4               False           False  \n",
       "...               ...             ...  \n",
       "9995            False           False  \n",
       "9996            False           False  \n",
       "9997            False           False  \n",
       "9998            False           False  \n",
       "9999            False           False  \n",
       "\n",
       "[10000 rows x 8 columns]"
      ]
     },
     "execution_count": 14,
     "metadata": {},
     "output_type": "execute_result"
    }
   ],
   "source": [
    "df = pd.read_csv('../data_raw/vendas2024.csv')\n",
    "df.isnull()"
   ]
  },
  {
   "cell_type": "code",
   "execution_count": 15,
   "id": "646573d3",
   "metadata": {},
   "outputs": [
    {
     "data": {
      "text/html": [
       "<div>\n",
       "<style scoped>\n",
       "    .dataframe tbody tr th:only-of-type {\n",
       "        vertical-align: middle;\n",
       "    }\n",
       "\n",
       "    .dataframe tbody tr th {\n",
       "        vertical-align: top;\n",
       "    }\n",
       "\n",
       "    .dataframe thead th {\n",
       "        text-align: right;\n",
       "    }\n",
       "</style>\n",
       "<table border=\"1\" class=\"dataframe\">\n",
       "  <thead>\n",
       "    <tr style=\"text-align: right;\">\n",
       "      <th></th>\n",
       "      <th>order_id</th>\n",
       "      <th>product_name</th>\n",
       "      <th>category</th>\n",
       "      <th>price</th>\n",
       "      <th>quantity</th>\n",
       "      <th>order_date</th>\n",
       "      <th>customer_region</th>\n",
       "      <th>payment_method</th>\n",
       "      <th>month</th>\n",
       "      <th>revenue</th>\n",
       "    </tr>\n",
       "  </thead>\n",
       "  <tbody>\n",
       "    <tr>\n",
       "      <th>0</th>\n",
       "      <td>1001</td>\n",
       "      <td>Teclado Gamer RGB</td>\n",
       "      <td>Periféricos</td>\n",
       "      <td>202.79</td>\n",
       "      <td>4</td>\n",
       "      <td>2024-10-01</td>\n",
       "      <td>Sudeste</td>\n",
       "      <td>Boleto</td>\n",
       "      <td>10</td>\n",
       "      <td>811.16</td>\n",
       "    </tr>\n",
       "    <tr>\n",
       "      <th>1</th>\n",
       "      <td>1002</td>\n",
       "      <td>Teclado Gamer RGB</td>\n",
       "      <td>Periféricos</td>\n",
       "      <td>2117.41</td>\n",
       "      <td>2</td>\n",
       "      <td>2024-03-12</td>\n",
       "      <td>Centro-Oeste</td>\n",
       "      <td>Boleto</td>\n",
       "      <td>3</td>\n",
       "      <td>4234.82</td>\n",
       "    </tr>\n",
       "    <tr>\n",
       "      <th>2</th>\n",
       "      <td>1003</td>\n",
       "      <td>Monitor UltraWide</td>\n",
       "      <td>Monitores</td>\n",
       "      <td>4496.22</td>\n",
       "      <td>3</td>\n",
       "      <td>2024-06-06</td>\n",
       "      <td>Nordeste</td>\n",
       "      <td>Boleto</td>\n",
       "      <td>6</td>\n",
       "      <td>13488.66</td>\n",
       "    </tr>\n",
       "    <tr>\n",
       "      <th>3</th>\n",
       "      <td>1004</td>\n",
       "      <td>Mouse Ergonômico</td>\n",
       "      <td>Periféricos</td>\n",
       "      <td>209.22</td>\n",
       "      <td>3</td>\n",
       "      <td>2024-10-11</td>\n",
       "      <td>Norte</td>\n",
       "      <td>Paypal</td>\n",
       "      <td>10</td>\n",
       "      <td>627.66</td>\n",
       "    </tr>\n",
       "    <tr>\n",
       "      <th>4</th>\n",
       "      <td>1005</td>\n",
       "      <td>Mouse Ergonômico</td>\n",
       "      <td>Periféricos</td>\n",
       "      <td>3312.43</td>\n",
       "      <td>5</td>\n",
       "      <td>2024-12-01</td>\n",
       "      <td>Centro-Oeste</td>\n",
       "      <td>Paypal</td>\n",
       "      <td>12</td>\n",
       "      <td>16562.15</td>\n",
       "    </tr>\n",
       "  </tbody>\n",
       "</table>\n",
       "</div>"
      ],
      "text/plain": [
       "   order_id       product_name     category    price  quantity order_date  \\\n",
       "0      1001  Teclado Gamer RGB  Periféricos   202.79         4 2024-10-01   \n",
       "1      1002  Teclado Gamer RGB  Periféricos  2117.41         2 2024-03-12   \n",
       "2      1003  Monitor UltraWide    Monitores  4496.22         3 2024-06-06   \n",
       "3      1004   Mouse Ergonômico  Periféricos   209.22         3 2024-10-11   \n",
       "4      1005   Mouse Ergonômico  Periféricos  3312.43         5 2024-12-01   \n",
       "\n",
       "  customer_region payment_method  month   revenue  \n",
       "0         Sudeste         Boleto     10    811.16  \n",
       "1    Centro-Oeste         Boleto      3   4234.82  \n",
       "2        Nordeste         Boleto      6  13488.66  \n",
       "3           Norte         Paypal     10    627.66  \n",
       "4    Centro-Oeste         Paypal     12  16562.15  "
      ]
     },
     "execution_count": 15,
     "metadata": {},
     "output_type": "execute_result"
    }
   ],
   "source": [
    "df[\"order_date\"] = pd.to_datetime(df[\"order_date\"])\n",
    "df[\"month\"] = df[\"order_date\"].dt.month\n",
    "df[\"revenue\"] = df[\"price\"] * df[\"quantity\"]\n",
    "df.head()"
   ]
  },
  {
   "cell_type": "markdown",
   "id": "00c93466",
   "metadata": {},
   "source": [
    "### Categorias mais vendidas"
   ]
  },
  {
   "cell_type": "code",
   "execution_count": 16,
   "id": "7db631d3",
   "metadata": {},
   "outputs": [],
   "source": [
    "categoriaQuantidade = df.groupby(\"category\")[\"quantity\"].sum().sort_values(ascending=False)"
   ]
  },
  {
   "cell_type": "code",
   "execution_count": 17,
   "id": "ba5ddb09",
   "metadata": {},
   "outputs": [
    {
     "name": "stdout",
     "output_type": "stream",
     "text": [
      "categorias de produtos mais vendidas:\n",
      "category\n",
      "Armazenamento    6225\n",
      "Periféricos      5942\n",
      "Wearables        3096\n",
      "Tablets          3024\n",
      "Câmeras          3003\n",
      "Monitores        2973\n",
      "Acessórios       2929\n",
      "Computadores     2897\n",
      "Name: quantity, dtype: int64\n"
     ]
    }
   ],
   "source": [
    "print(\"categorias de produtos mais vendidas:\")\n",
    "print(categoriaQuantidade)"
   ]
  },
  {
   "cell_type": "markdown",
   "id": "076661c0",
   "metadata": {},
   "source": [
    "### Ticket médio"
   ]
  },
  {
   "cell_type": "code",
   "execution_count": 18,
   "id": "3b6c23d1",
   "metadata": {},
   "outputs": [],
   "source": [
    "ticketMedio = df[\"revenue\"].sum() / df[\"order_id\"].nunique()"
   ]
  },
  {
   "cell_type": "code",
   "execution_count": 19,
   "id": "60ff00f8",
   "metadata": {},
   "outputs": [
    {
     "name": "stdout",
     "output_type": "stream",
     "text": [
      "Calcular o ticket médio das vendas:\n",
      "Ticket médio R$ 7825.93\n"
     ]
    }
   ],
   "source": [
    "print('Calcular o ticket médio das vendas:')\n",
    "print(f'Ticket médio R$ {ticketMedio:.2f}')"
   ]
  },
  {
   "cell_type": "markdown",
   "id": "36090be6",
   "metadata": {},
   "source": [
    "### Vendas o longo dos meses"
   ]
  },
  {
   "cell_type": "code",
   "execution_count": 20,
   "id": "7953eba1",
   "metadata": {},
   "outputs": [
    {
     "data": {
      "text/plain": [
       "<Axes: xlabel='month'>"
      ]
     },
     "execution_count": 20,
     "metadata": {},
     "output_type": "execute_result"
    },
    {
     "data": {
      "image/png": "[encoded data removed]",
      "text/plain": [
       "<Figure size 640x480 with 1 Axes>"
      ]
     },
     "metadata": {},
     "output_type": "display_data"
    }
   ],
   "source": [
    "fig = df.groupby('month')['revenue'].sum().plot(kind='line')\n",
    "fig"
   ]
  },
  {
   "cell_type": "markdown",
   "id": "9e993255",
   "metadata": {},
   "source": [
    "### Regiões que mais compraram"
   ]
  },
  {
   "cell_type": "code",
   "execution_count": 21,
   "id": "f86ddf29",
   "metadata": {},
   "outputs": [
    {
     "data": {
      "text/plain": [
       "customer_region\n",
       "Sudeste         6230\n",
       "Nordeste        6086\n",
       "Sul             5971\n",
       "Norte           5914\n",
       "Centro-Oeste    5888\n",
       "Name: quantity, dtype: int64"
      ]
     },
     "execution_count": 21,
     "metadata": {},
     "output_type": "execute_result"
    }
   ],
   "source": [
    "# Quantidade de compras por região\n",
    "qtdReg = df.groupby(\"customer_region\")[\"quantity\"].sum().sort_values(ascending=False)\n",
    "qtdReg"
   ]
  },
  {
   "cell_type": "code",
   "execution_count": 22,
   "id": "dec4ec12",
   "metadata": {},
   "outputs": [
    {
     "data": {
      "text/plain": [
       "customer_region\n",
       "Nordeste        15974460.54\n",
       "Sudeste         15936650.09\n",
       "Sul             15740252.60\n",
       "Norte           15304449.93\n",
       "Centro-Oeste    15303513.67\n",
       "Name: revenue, dtype: float64"
      ]
     },
     "execution_count": 22,
     "metadata": {},
     "output_type": "execute_result"
    }
   ],
   "source": [
    "# Montante comprado por região\n",
    "valReg = df.groupby(\"customer_region\")[\"revenue\"].sum().sort_values(ascending=False)\n",
    "valReg"
   ]
  },
  {
   "cell_type": "markdown",
   "id": "4068edaf",
   "metadata": {},
   "source": [
    "### Metódo de pagamento mais usado"
   ]
  },
  {
   "cell_type": "code",
   "execution_count": 23,
   "id": "d719a319",
   "metadata": {},
   "outputs": [
    {
     "data": {
      "text/plain": [
       "payment_method\n",
       "Boleto    2556\n",
       "Cartão    2494\n",
       "Paypal    2475\n",
       "Pix       2475\n",
       "Name: count, dtype: int64"
      ]
     },
     "execution_count": 23,
     "metadata": {},
     "output_type": "execute_result"
    }
   ],
   "source": [
    "pagUsado = df[\"payment_method\"].value_counts()\n",
    "pagUsado"
   ]
  },
  {
   "cell_type": "markdown",
   "id": "18e5743b",
   "metadata": {},
   "source": [
    "### Porduto campeão de vendas"
   ]
  },
  {
   "cell_type": "code",
   "execution_count": 24,
   "id": "cb3909b6",
   "metadata": {},
   "outputs": [
    {
     "data": {
      "text/plain": [
       "product_name\n",
       "HD Externo 2TB    3200\n",
       "Name: quantity, dtype: int64"
      ]
     },
     "execution_count": 24,
     "metadata": {},
     "output_type": "execute_result"
    }
   ],
   "source": [
    "campVendas = df.groupby(\"product_name\")[\"quantity\"].sum().sort_values(ascending=False).head(1)\n",
    "campVendas"
   ]
  }
 ],
 "metadata": {
  "kernelspec": {
   "display_name": "venv",
   "language": "python",
   "name": "python3"
  },
  "language_info": {
   "codemirror_mode": {
    "name": "ipython",
    "version": 3
   },
   "file_extension": ".py",
   "mimetype": "text/x-python",
   "name": "python",
   "nbconvert_exporter": "python",
   "pygments_lexer": "ipython3",
   "version": "3.10.12"
  }
 },
 "nbformat": 4,
 "nbformat_minor": 5
}
